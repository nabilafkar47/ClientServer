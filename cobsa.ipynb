{
 "cells": [
  {
   "cell_type": "code",
   "execution_count": null,
   "id": "ac06558a",
   "metadata": {
    "_cell_guid": "b1076dfc-b9ad-4769-8c92-a6c4dae69d19",
    "_uuid": "8f2839f25d086af736a60e9eeb907d3b93b6e0e5",
    "papermill": {
     "duration": 0.005741,
     "end_time": "2024-03-20T11:09:52.401133",
     "exception": false,
     "start_time": "2024-03-20T11:09:52.395392",
     "status": "completed"
    },
    "tags": []
   },
   "outputs": [],
   "source": []
  },
  {
   "cell_type": "code",
   "execution_count": 1,
   "id": "af3cb7cc",
   "metadata": {
    "execution": {
     "iopub.execute_input": "2024-03-20T11:09:52.412901Z",
     "iopub.status.busy": "2024-03-20T11:09:52.412526Z",
     "iopub.status.idle": "2024-03-20T11:09:53.438083Z",
     "shell.execute_reply": "2024-03-20T11:09:53.436966Z"
    },
    "papermill": {
     "duration": 1.034597,
     "end_time": "2024-03-20T11:09:53.440773",
     "exception": false,
     "start_time": "2024-03-20T11:09:52.406176",
     "status": "completed"
    },
    "tags": []
   },
   "outputs": [],
   "source": [
    "import pandas as pd"
   ]
  },
  {
   "cell_type": "code",
   "execution_count": 2,
   "id": "96df0e64",
   "metadata": {
    "execution": {
     "iopub.execute_input": "2024-03-20T11:09:53.452094Z",
     "iopub.status.busy": "2024-03-20T11:09:53.451606Z",
     "iopub.status.idle": "2024-03-20T11:09:55.091105Z",
     "shell.execute_reply": "2024-03-20T11:09:55.090007Z"
    },
    "papermill": {
     "duration": 1.648475,
     "end_time": "2024-03-20T11:09:55.094018",
     "exception": false,
     "start_time": "2024-03-20T11:09:53.445543",
     "status": "completed"
    },
    "tags": []
   },
   "outputs": [],
   "source": [
    "\n",
    "\n",
    "# Specify encoding when reading the CSV file\n",
    "df = pd.read_csv('/kaggle/input/ecommerce-data/data.csv', encoding='latin1')\n"
   ]
  },
  {
   "cell_type": "code",
   "execution_count": 3,
   "id": "0e6d0c37",
   "metadata": {
    "execution": {
     "iopub.execute_input": "2024-03-20T11:09:55.105333Z",
     "iopub.status.busy": "2024-03-20T11:09:55.104948Z",
     "iopub.status.idle": "2024-03-20T11:09:55.264748Z",
     "shell.execute_reply": "2024-03-20T11:09:55.263229Z"
    },
    "papermill": {
     "duration": 0.168376,
     "end_time": "2024-03-20T11:09:55.267209",
     "exception": false,
     "start_time": "2024-03-20T11:09:55.098833",
     "status": "completed"
    },
    "tags": []
   },
   "outputs": [
    {
     "name": "stdout",
     "output_type": "stream",
     "text": [
      "<class 'pandas.core.frame.DataFrame'>\n",
      "RangeIndex: 541909 entries, 0 to 541908\n",
      "Data columns (total 8 columns):\n",
      " #   Column       Non-Null Count   Dtype  \n",
      "---  ------       --------------   -----  \n",
      " 0   InvoiceNo    541909 non-null  object \n",
      " 1   StockCode    541909 non-null  object \n",
      " 2   Description  540455 non-null  object \n",
      " 3   Quantity     541909 non-null  int64  \n",
      " 4   InvoiceDate  541909 non-null  object \n",
      " 5   UnitPrice    541909 non-null  float64\n",
      " 6   CustomerID   406829 non-null  float64\n",
      " 7   Country      541909 non-null  object \n",
      "dtypes: float64(2), int64(1), object(5)\n",
      "memory usage: 33.1+ MB\n"
     ]
    }
   ],
   "source": [
    "df.info()"
   ]
  },
  {
   "cell_type": "code",
   "execution_count": 4,
   "id": "4e397d3c",
   "metadata": {
    "execution": {
     "iopub.execute_input": "2024-03-20T11:09:55.279364Z",
     "iopub.status.busy": "2024-03-20T11:09:55.278477Z",
     "iopub.status.idle": "2024-03-20T11:09:55.300341Z",
     "shell.execute_reply": "2024-03-20T11:09:55.299136Z"
    },
    "papermill": {
     "duration": 0.031011,
     "end_time": "2024-03-20T11:09:55.303137",
     "exception": false,
     "start_time": "2024-03-20T11:09:55.272126",
     "status": "completed"
    },
    "tags": []
   },
   "outputs": [
    {
     "data": {
      "text/html": [
       "<div>\n",
       "<style scoped>\n",
       "    .dataframe tbody tr th:only-of-type {\n",
       "        vertical-align: middle;\n",
       "    }\n",
       "\n",
       "    .dataframe tbody tr th {\n",
       "        vertical-align: top;\n",
       "    }\n",
       "\n",
       "    .dataframe thead th {\n",
       "        text-align: right;\n",
       "    }\n",
       "</style>\n",
       "<table border=\"1\" class=\"dataframe\">\n",
       "  <thead>\n",
       "    <tr style=\"text-align: right;\">\n",
       "      <th></th>\n",
       "      <th>InvoiceNo</th>\n",
       "      <th>StockCode</th>\n",
       "      <th>Description</th>\n",
       "      <th>Quantity</th>\n",
       "      <th>InvoiceDate</th>\n",
       "      <th>UnitPrice</th>\n",
       "      <th>CustomerID</th>\n",
       "      <th>Country</th>\n",
       "    </tr>\n",
       "  </thead>\n",
       "  <tbody>\n",
       "    <tr>\n",
       "      <th>0</th>\n",
       "      <td>536365</td>\n",
       "      <td>85123A</td>\n",
       "      <td>WHITE HANGING HEART T-LIGHT HOLDER</td>\n",
       "      <td>6</td>\n",
       "      <td>12/1/2010 8:26</td>\n",
       "      <td>2.55</td>\n",
       "      <td>17850.0</td>\n",
       "      <td>United Kingdom</td>\n",
       "    </tr>\n",
       "    <tr>\n",
       "      <th>1</th>\n",
       "      <td>536365</td>\n",
       "      <td>71053</td>\n",
       "      <td>WHITE METAL LANTERN</td>\n",
       "      <td>6</td>\n",
       "      <td>12/1/2010 8:26</td>\n",
       "      <td>3.39</td>\n",
       "      <td>17850.0</td>\n",
       "      <td>United Kingdom</td>\n",
       "    </tr>\n",
       "    <tr>\n",
       "      <th>2</th>\n",
       "      <td>536365</td>\n",
       "      <td>84406B</td>\n",
       "      <td>CREAM CUPID HEARTS COAT HANGER</td>\n",
       "      <td>8</td>\n",
       "      <td>12/1/2010 8:26</td>\n",
       "      <td>2.75</td>\n",
       "      <td>17850.0</td>\n",
       "      <td>United Kingdom</td>\n",
       "    </tr>\n",
       "    <tr>\n",
       "      <th>3</th>\n",
       "      <td>536365</td>\n",
       "      <td>84029G</td>\n",
       "      <td>KNITTED UNION FLAG HOT WATER BOTTLE</td>\n",
       "      <td>6</td>\n",
       "      <td>12/1/2010 8:26</td>\n",
       "      <td>3.39</td>\n",
       "      <td>17850.0</td>\n",
       "      <td>United Kingdom</td>\n",
       "    </tr>\n",
       "    <tr>\n",
       "      <th>4</th>\n",
       "      <td>536365</td>\n",
       "      <td>84029E</td>\n",
       "      <td>RED WOOLLY HOTTIE WHITE HEART.</td>\n",
       "      <td>6</td>\n",
       "      <td>12/1/2010 8:26</td>\n",
       "      <td>3.39</td>\n",
       "      <td>17850.0</td>\n",
       "      <td>United Kingdom</td>\n",
       "    </tr>\n",
       "  </tbody>\n",
       "</table>\n",
       "</div>"
      ],
      "text/plain": [
       "  InvoiceNo StockCode                          Description  Quantity  \\\n",
       "0    536365    85123A   WHITE HANGING HEART T-LIGHT HOLDER         6   \n",
       "1    536365     71053                  WHITE METAL LANTERN         6   \n",
       "2    536365    84406B       CREAM CUPID HEARTS COAT HANGER         8   \n",
       "3    536365    84029G  KNITTED UNION FLAG HOT WATER BOTTLE         6   \n",
       "4    536365    84029E       RED WOOLLY HOTTIE WHITE HEART.         6   \n",
       "\n",
       "      InvoiceDate  UnitPrice  CustomerID         Country  \n",
       "0  12/1/2010 8:26       2.55     17850.0  United Kingdom  \n",
       "1  12/1/2010 8:26       3.39     17850.0  United Kingdom  \n",
       "2  12/1/2010 8:26       2.75     17850.0  United Kingdom  \n",
       "3  12/1/2010 8:26       3.39     17850.0  United Kingdom  \n",
       "4  12/1/2010 8:26       3.39     17850.0  United Kingdom  "
      ]
     },
     "execution_count": 4,
     "metadata": {},
     "output_type": "execute_result"
    }
   ],
   "source": [
    "df.head()"
   ]
  },
  {
   "cell_type": "code",
   "execution_count": 5,
   "id": "7b073645",
   "metadata": {
    "execution": {
     "iopub.execute_input": "2024-03-20T11:09:55.314981Z",
     "iopub.status.busy": "2024-03-20T11:09:55.314620Z",
     "iopub.status.idle": "2024-03-20T11:09:55.455045Z",
     "shell.execute_reply": "2024-03-20T11:09:55.453945Z"
    },
    "papermill": {
     "duration": 0.149433,
     "end_time": "2024-03-20T11:09:55.457541",
     "exception": false,
     "start_time": "2024-03-20T11:09:55.308108",
     "status": "completed"
    },
    "tags": []
   },
   "outputs": [
    {
     "data": {
      "text/html": [
       "<div>\n",
       "<style scoped>\n",
       "    .dataframe tbody tr th:only-of-type {\n",
       "        vertical-align: middle;\n",
       "    }\n",
       "\n",
       "    .dataframe tbody tr th {\n",
       "        vertical-align: top;\n",
       "    }\n",
       "\n",
       "    .dataframe thead th {\n",
       "        text-align: right;\n",
       "    }\n",
       "</style>\n",
       "<table border=\"1\" class=\"dataframe\">\n",
       "  <thead>\n",
       "    <tr style=\"text-align: right;\">\n",
       "      <th></th>\n",
       "      <th>InvoiceNo</th>\n",
       "      <th>StockCode</th>\n",
       "      <th>Description</th>\n",
       "      <th>Quantity</th>\n",
       "      <th>InvoiceDate</th>\n",
       "      <th>UnitPrice</th>\n",
       "      <th>CustomerID</th>\n",
       "      <th>Country</th>\n",
       "    </tr>\n",
       "  </thead>\n",
       "  <tbody>\n",
       "    <tr>\n",
       "      <th>0</th>\n",
       "      <td>False</td>\n",
       "      <td>False</td>\n",
       "      <td>False</td>\n",
       "      <td>False</td>\n",
       "      <td>False</td>\n",
       "      <td>False</td>\n",
       "      <td>False</td>\n",
       "      <td>False</td>\n",
       "    </tr>\n",
       "    <tr>\n",
       "      <th>1</th>\n",
       "      <td>False</td>\n",
       "      <td>False</td>\n",
       "      <td>False</td>\n",
       "      <td>False</td>\n",
       "      <td>False</td>\n",
       "      <td>False</td>\n",
       "      <td>False</td>\n",
       "      <td>False</td>\n",
       "    </tr>\n",
       "    <tr>\n",
       "      <th>2</th>\n",
       "      <td>False</td>\n",
       "      <td>False</td>\n",
       "      <td>False</td>\n",
       "      <td>False</td>\n",
       "      <td>False</td>\n",
       "      <td>False</td>\n",
       "      <td>False</td>\n",
       "      <td>False</td>\n",
       "    </tr>\n",
       "    <tr>\n",
       "      <th>3</th>\n",
       "      <td>False</td>\n",
       "      <td>False</td>\n",
       "      <td>False</td>\n",
       "      <td>False</td>\n",
       "      <td>False</td>\n",
       "      <td>False</td>\n",
       "      <td>False</td>\n",
       "      <td>False</td>\n",
       "    </tr>\n",
       "    <tr>\n",
       "      <th>4</th>\n",
       "      <td>False</td>\n",
       "      <td>False</td>\n",
       "      <td>False</td>\n",
       "      <td>False</td>\n",
       "      <td>False</td>\n",
       "      <td>False</td>\n",
       "      <td>False</td>\n",
       "      <td>False</td>\n",
       "    </tr>\n",
       "    <tr>\n",
       "      <th>...</th>\n",
       "      <td>...</td>\n",
       "      <td>...</td>\n",
       "      <td>...</td>\n",
       "      <td>...</td>\n",
       "      <td>...</td>\n",
       "      <td>...</td>\n",
       "      <td>...</td>\n",
       "      <td>...</td>\n",
       "    </tr>\n",
       "    <tr>\n",
       "      <th>541904</th>\n",
       "      <td>False</td>\n",
       "      <td>False</td>\n",
       "      <td>False</td>\n",
       "      <td>False</td>\n",
       "      <td>False</td>\n",
       "      <td>False</td>\n",
       "      <td>False</td>\n",
       "      <td>False</td>\n",
       "    </tr>\n",
       "    <tr>\n",
       "      <th>541905</th>\n",
       "      <td>False</td>\n",
       "      <td>False</td>\n",
       "      <td>False</td>\n",
       "      <td>False</td>\n",
       "      <td>False</td>\n",
       "      <td>False</td>\n",
       "      <td>False</td>\n",
       "      <td>False</td>\n",
       "    </tr>\n",
       "    <tr>\n",
       "      <th>541906</th>\n",
       "      <td>False</td>\n",
       "      <td>False</td>\n",
       "      <td>False</td>\n",
       "      <td>False</td>\n",
       "      <td>False</td>\n",
       "      <td>False</td>\n",
       "      <td>False</td>\n",
       "      <td>False</td>\n",
       "    </tr>\n",
       "    <tr>\n",
       "      <th>541907</th>\n",
       "      <td>False</td>\n",
       "      <td>False</td>\n",
       "      <td>False</td>\n",
       "      <td>False</td>\n",
       "      <td>False</td>\n",
       "      <td>False</td>\n",
       "      <td>False</td>\n",
       "      <td>False</td>\n",
       "    </tr>\n",
       "    <tr>\n",
       "      <th>541908</th>\n",
       "      <td>False</td>\n",
       "      <td>False</td>\n",
       "      <td>False</td>\n",
       "      <td>False</td>\n",
       "      <td>False</td>\n",
       "      <td>False</td>\n",
       "      <td>False</td>\n",
       "      <td>False</td>\n",
       "    </tr>\n",
       "  </tbody>\n",
       "</table>\n",
       "<p>541909 rows × 8 columns</p>\n",
       "</div>"
      ],
      "text/plain": [
       "        InvoiceNo  StockCode  Description  Quantity  InvoiceDate  UnitPrice  \\\n",
       "0           False      False        False     False        False      False   \n",
       "1           False      False        False     False        False      False   \n",
       "2           False      False        False     False        False      False   \n",
       "3           False      False        False     False        False      False   \n",
       "4           False      False        False     False        False      False   \n",
       "...           ...        ...          ...       ...          ...        ...   \n",
       "541904      False      False        False     False        False      False   \n",
       "541905      False      False        False     False        False      False   \n",
       "541906      False      False        False     False        False      False   \n",
       "541907      False      False        False     False        False      False   \n",
       "541908      False      False        False     False        False      False   \n",
       "\n",
       "        CustomerID  Country  \n",
       "0            False    False  \n",
       "1            False    False  \n",
       "2            False    False  \n",
       "3            False    False  \n",
       "4            False    False  \n",
       "...            ...      ...  \n",
       "541904       False    False  \n",
       "541905       False    False  \n",
       "541906       False    False  \n",
       "541907       False    False  \n",
       "541908       False    False  \n",
       "\n",
       "[541909 rows x 8 columns]"
      ]
     },
     "execution_count": 5,
     "metadata": {},
     "output_type": "execute_result"
    }
   ],
   "source": [
    "df.isnull()"
   ]
  },
  {
   "cell_type": "code",
   "execution_count": 6,
   "id": "ddf98f34",
   "metadata": {
    "execution": {
     "iopub.execute_input": "2024-03-20T11:09:55.470390Z",
     "iopub.status.busy": "2024-03-20T11:09:55.469969Z",
     "iopub.status.idle": "2024-03-20T11:09:55.651589Z",
     "shell.execute_reply": "2024-03-20T11:09:55.650519Z"
    },
    "papermill": {
     "duration": 0.191239,
     "end_time": "2024-03-20T11:09:55.654229",
     "exception": false,
     "start_time": "2024-03-20T11:09:55.462990",
     "status": "completed"
    },
    "tags": []
   },
   "outputs": [],
   "source": [
    "df.dropna(inplace=True)  # Menghapus baris dengan nilai kosong\n"
   ]
  },
  {
   "cell_type": "code",
   "execution_count": 7,
   "id": "cefa2007",
   "metadata": {
    "execution": {
     "iopub.execute_input": "2024-03-20T11:09:55.667153Z",
     "iopub.status.busy": "2024-03-20T11:09:55.666699Z",
     "iopub.status.idle": "2024-03-20T11:09:55.703076Z",
     "shell.execute_reply": "2024-03-20T11:09:55.701959Z"
    },
    "papermill": {
     "duration": 0.046076,
     "end_time": "2024-03-20T11:09:55.705748",
     "exception": false,
     "start_time": "2024-03-20T11:09:55.659672",
     "status": "completed"
    },
    "tags": []
   },
   "outputs": [],
   "source": [
    "# Drop fitur yang tidak diperlukan\n",
    "df.drop(['Country', 'InvoiceNo'], axis=1, inplace=True)\n"
   ]
  },
  {
   "cell_type": "code",
   "execution_count": 8,
   "id": "83480605",
   "metadata": {
    "execution": {
     "iopub.execute_input": "2024-03-20T11:09:55.718464Z",
     "iopub.status.busy": "2024-03-20T11:09:55.718029Z",
     "iopub.status.idle": "2024-03-20T11:09:55.732739Z",
     "shell.execute_reply": "2024-03-20T11:09:55.731527Z"
    },
    "papermill": {
     "duration": 0.024027,
     "end_time": "2024-03-20T11:09:55.735198",
     "exception": false,
     "start_time": "2024-03-20T11:09:55.711171",
     "status": "completed"
    },
    "tags": []
   },
   "outputs": [
    {
     "data": {
      "text/html": [
       "<div>\n",
       "<style scoped>\n",
       "    .dataframe tbody tr th:only-of-type {\n",
       "        vertical-align: middle;\n",
       "    }\n",
       "\n",
       "    .dataframe tbody tr th {\n",
       "        vertical-align: top;\n",
       "    }\n",
       "\n",
       "    .dataframe thead th {\n",
       "        text-align: right;\n",
       "    }\n",
       "</style>\n",
       "<table border=\"1\" class=\"dataframe\">\n",
       "  <thead>\n",
       "    <tr style=\"text-align: right;\">\n",
       "      <th></th>\n",
       "      <th>StockCode</th>\n",
       "      <th>Description</th>\n",
       "      <th>Quantity</th>\n",
       "      <th>InvoiceDate</th>\n",
       "      <th>UnitPrice</th>\n",
       "      <th>CustomerID</th>\n",
       "    </tr>\n",
       "  </thead>\n",
       "  <tbody>\n",
       "    <tr>\n",
       "      <th>0</th>\n",
       "      <td>85123A</td>\n",
       "      <td>WHITE HANGING HEART T-LIGHT HOLDER</td>\n",
       "      <td>6</td>\n",
       "      <td>12/1/2010 8:26</td>\n",
       "      <td>2.55</td>\n",
       "      <td>17850.0</td>\n",
       "    </tr>\n",
       "    <tr>\n",
       "      <th>1</th>\n",
       "      <td>71053</td>\n",
       "      <td>WHITE METAL LANTERN</td>\n",
       "      <td>6</td>\n",
       "      <td>12/1/2010 8:26</td>\n",
       "      <td>3.39</td>\n",
       "      <td>17850.0</td>\n",
       "    </tr>\n",
       "    <tr>\n",
       "      <th>2</th>\n",
       "      <td>84406B</td>\n",
       "      <td>CREAM CUPID HEARTS COAT HANGER</td>\n",
       "      <td>8</td>\n",
       "      <td>12/1/2010 8:26</td>\n",
       "      <td>2.75</td>\n",
       "      <td>17850.0</td>\n",
       "    </tr>\n",
       "    <tr>\n",
       "      <th>3</th>\n",
       "      <td>84029G</td>\n",
       "      <td>KNITTED UNION FLAG HOT WATER BOTTLE</td>\n",
       "      <td>6</td>\n",
       "      <td>12/1/2010 8:26</td>\n",
       "      <td>3.39</td>\n",
       "      <td>17850.0</td>\n",
       "    </tr>\n",
       "    <tr>\n",
       "      <th>4</th>\n",
       "      <td>84029E</td>\n",
       "      <td>RED WOOLLY HOTTIE WHITE HEART.</td>\n",
       "      <td>6</td>\n",
       "      <td>12/1/2010 8:26</td>\n",
       "      <td>3.39</td>\n",
       "      <td>17850.0</td>\n",
       "    </tr>\n",
       "  </tbody>\n",
       "</table>\n",
       "</div>"
      ],
      "text/plain": [
       "  StockCode                          Description  Quantity     InvoiceDate  \\\n",
       "0    85123A   WHITE HANGING HEART T-LIGHT HOLDER         6  12/1/2010 8:26   \n",
       "1     71053                  WHITE METAL LANTERN         6  12/1/2010 8:26   \n",
       "2    84406B       CREAM CUPID HEARTS COAT HANGER         8  12/1/2010 8:26   \n",
       "3    84029G  KNITTED UNION FLAG HOT WATER BOTTLE         6  12/1/2010 8:26   \n",
       "4    84029E       RED WOOLLY HOTTIE WHITE HEART.         6  12/1/2010 8:26   \n",
       "\n",
       "   UnitPrice  CustomerID  \n",
       "0       2.55     17850.0  \n",
       "1       3.39     17850.0  \n",
       "2       2.75     17850.0  \n",
       "3       3.39     17850.0  \n",
       "4       3.39     17850.0  "
      ]
     },
     "execution_count": 8,
     "metadata": {},
     "output_type": "execute_result"
    }
   ],
   "source": [
    "df.head()\n"
   ]
  },
  {
   "cell_type": "code",
   "execution_count": 9,
   "id": "45788348",
   "metadata": {
    "execution": {
     "iopub.execute_input": "2024-03-20T11:09:55.748503Z",
     "iopub.status.busy": "2024-03-20T11:09:55.748096Z",
     "iopub.status.idle": "2024-03-20T11:09:57.203372Z",
     "shell.execute_reply": "2024-03-20T11:09:57.202189Z"
    },
    "papermill": {
     "duration": 1.465253,
     "end_time": "2024-03-20T11:09:57.206114",
     "exception": false,
     "start_time": "2024-03-20T11:09:55.740861",
     "status": "completed"
    },
    "tags": []
   },
   "outputs": [],
   "source": [
    "from sklearn.preprocessing import StandardScaler\n",
    "\n",
    "# Initialize the StandardScaler\n",
    "scaler = StandardScaler()\n",
    "\n",
    "# Scale only the 'Quantity' and 'UnitPrice' features\n",
    "df[['Quantity', 'UnitPrice']] = scaler.fit_transform(df[['Quantity', 'UnitPrice']])\n"
   ]
  },
  {
   "cell_type": "code",
   "execution_count": 10,
   "id": "231f2536",
   "metadata": {
    "execution": {
     "iopub.execute_input": "2024-03-20T11:09:57.219598Z",
     "iopub.status.busy": "2024-03-20T11:09:57.218553Z",
     "iopub.status.idle": "2024-03-20T11:09:57.241491Z",
     "shell.execute_reply": "2024-03-20T11:09:57.240278Z"
    },
    "papermill": {
     "duration": 0.032273,
     "end_time": "2024-03-20T11:09:57.243975",
     "exception": false,
     "start_time": "2024-03-20T11:09:57.211702",
     "status": "completed"
    },
    "tags": []
   },
   "outputs": [],
   "source": [
    "df.drop(['StockCode'], axis=1, inplace=True)"
   ]
  },
  {
   "cell_type": "code",
   "execution_count": 11,
   "id": "906fdfda",
   "metadata": {
    "execution": {
     "iopub.execute_input": "2024-03-20T11:09:57.257217Z",
     "iopub.status.busy": "2024-03-20T11:09:57.256262Z",
     "iopub.status.idle": "2024-03-20T11:09:57.283964Z",
     "shell.execute_reply": "2024-03-20T11:09:57.282816Z"
    },
    "papermill": {
     "duration": 0.036815,
     "end_time": "2024-03-20T11:09:57.286393",
     "exception": false,
     "start_time": "2024-03-20T11:09:57.249578",
     "status": "completed"
    },
    "tags": []
   },
   "outputs": [],
   "source": [
    "df.drop(['Description'], axis=1, inplace=True)\n"
   ]
  },
  {
   "cell_type": "code",
   "execution_count": 12,
   "id": "69bd82b5",
   "metadata": {
    "execution": {
     "iopub.execute_input": "2024-03-20T11:09:57.299149Z",
     "iopub.status.busy": "2024-03-20T11:09:57.298749Z",
     "iopub.status.idle": "2024-03-20T11:09:57.310831Z",
     "shell.execute_reply": "2024-03-20T11:09:57.309649Z"
    },
    "papermill": {
     "duration": 0.021222,
     "end_time": "2024-03-20T11:09:57.313117",
     "exception": false,
     "start_time": "2024-03-20T11:09:57.291895",
     "status": "completed"
    },
    "tags": []
   },
   "outputs": [],
   "source": [
    "\n",
    "df.drop(['InvoiceDate'], axis=1, inplace=True)"
   ]
  },
  {
   "cell_type": "code",
   "execution_count": 13,
   "id": "89bf1d06",
   "metadata": {
    "execution": {
     "iopub.execute_input": "2024-03-20T11:09:57.326944Z",
     "iopub.status.busy": "2024-03-20T11:09:57.326239Z",
     "iopub.status.idle": "2024-03-20T11:09:57.339278Z",
     "shell.execute_reply": "2024-03-20T11:09:57.337975Z"
    },
    "papermill": {
     "duration": 0.022672,
     "end_time": "2024-03-20T11:09:57.341515",
     "exception": false,
     "start_time": "2024-03-20T11:09:57.318843",
     "status": "completed"
    },
    "tags": []
   },
   "outputs": [
    {
     "data": {
      "text/html": [
       "<div>\n",
       "<style scoped>\n",
       "    .dataframe tbody tr th:only-of-type {\n",
       "        vertical-align: middle;\n",
       "    }\n",
       "\n",
       "    .dataframe tbody tr th {\n",
       "        vertical-align: top;\n",
       "    }\n",
       "\n",
       "    .dataframe thead th {\n",
       "        text-align: right;\n",
       "    }\n",
       "</style>\n",
       "<table border=\"1\" class=\"dataframe\">\n",
       "  <thead>\n",
       "    <tr style=\"text-align: right;\">\n",
       "      <th></th>\n",
       "      <th>Quantity</th>\n",
       "      <th>UnitPrice</th>\n",
       "      <th>CustomerID</th>\n",
       "    </tr>\n",
       "  </thead>\n",
       "  <tbody>\n",
       "    <tr>\n",
       "      <th>0</th>\n",
       "      <td>-0.024373</td>\n",
       "      <td>-0.013135</td>\n",
       "      <td>17850.0</td>\n",
       "    </tr>\n",
       "    <tr>\n",
       "      <th>1</th>\n",
       "      <td>-0.024373</td>\n",
       "      <td>-0.001017</td>\n",
       "      <td>17850.0</td>\n",
       "    </tr>\n",
       "    <tr>\n",
       "      <th>2</th>\n",
       "      <td>-0.016331</td>\n",
       "      <td>-0.010250</td>\n",
       "      <td>17850.0</td>\n",
       "    </tr>\n",
       "    <tr>\n",
       "      <th>3</th>\n",
       "      <td>-0.024373</td>\n",
       "      <td>-0.001017</td>\n",
       "      <td>17850.0</td>\n",
       "    </tr>\n",
       "    <tr>\n",
       "      <th>4</th>\n",
       "      <td>-0.024373</td>\n",
       "      <td>-0.001017</td>\n",
       "      <td>17850.0</td>\n",
       "    </tr>\n",
       "  </tbody>\n",
       "</table>\n",
       "</div>"
      ],
      "text/plain": [
       "   Quantity  UnitPrice  CustomerID\n",
       "0 -0.024373  -0.013135     17850.0\n",
       "1 -0.024373  -0.001017     17850.0\n",
       "2 -0.016331  -0.010250     17850.0\n",
       "3 -0.024373  -0.001017     17850.0\n",
       "4 -0.024373  -0.001017     17850.0"
      ]
     },
     "execution_count": 13,
     "metadata": {},
     "output_type": "execute_result"
    }
   ],
   "source": [
    "df.head()"
   ]
  },
  {
   "cell_type": "code",
   "execution_count": 14,
   "id": "49b30290",
   "metadata": {
    "execution": {
     "iopub.execute_input": "2024-03-20T11:09:57.354351Z",
     "iopub.status.busy": "2024-03-20T11:09:57.353948Z",
     "iopub.status.idle": "2024-03-20T11:10:23.235363Z",
     "shell.execute_reply": "2024-03-20T11:10:23.234500Z"
    },
    "papermill": {
     "duration": 25.890786,
     "end_time": "2024-03-20T11:10:23.237920",
     "exception": false,
     "start_time": "2024-03-20T11:09:57.347134",
     "status": "completed"
    },
    "tags": []
   },
   "outputs": [
    {
     "name": "stderr",
     "output_type": "stream",
     "text": [
      "/opt/conda/lib/python3.10/site-packages/sklearn/cluster/_kmeans.py:870: FutureWarning: The default value of `n_init` will change from 10 to 'auto' in 1.4. Set the value of `n_init` explicitly to suppress the warning\n",
      "  warnings.warn(\n",
      "/opt/conda/lib/python3.10/site-packages/sklearn/cluster/_kmeans.py:870: FutureWarning: The default value of `n_init` will change from 10 to 'auto' in 1.4. Set the value of `n_init` explicitly to suppress the warning\n",
      "  warnings.warn(\n",
      "/opt/conda/lib/python3.10/site-packages/sklearn/cluster/_kmeans.py:870: FutureWarning: The default value of `n_init` will change from 10 to 'auto' in 1.4. Set the value of `n_init` explicitly to suppress the warning\n",
      "  warnings.warn(\n",
      "/opt/conda/lib/python3.10/site-packages/sklearn/cluster/_kmeans.py:870: FutureWarning: The default value of `n_init` will change from 10 to 'auto' in 1.4. Set the value of `n_init` explicitly to suppress the warning\n",
      "  warnings.warn(\n",
      "/opt/conda/lib/python3.10/site-packages/sklearn/cluster/_kmeans.py:870: FutureWarning: The default value of `n_init` will change from 10 to 'auto' in 1.4. Set the value of `n_init` explicitly to suppress the warning\n",
      "  warnings.warn(\n",
      "/opt/conda/lib/python3.10/site-packages/sklearn/cluster/_kmeans.py:870: FutureWarning: The default value of `n_init` will change from 10 to 'auto' in 1.4. Set the value of `n_init` explicitly to suppress the warning\n",
      "  warnings.warn(\n",
      "/opt/conda/lib/python3.10/site-packages/sklearn/cluster/_kmeans.py:870: FutureWarning: The default value of `n_init` will change from 10 to 'auto' in 1.4. Set the value of `n_init` explicitly to suppress the warning\n",
      "  warnings.warn(\n",
      "/opt/conda/lib/python3.10/site-packages/sklearn/cluster/_kmeans.py:870: FutureWarning: The default value of `n_init` will change from 10 to 'auto' in 1.4. Set the value of `n_init` explicitly to suppress the warning\n",
      "  warnings.warn(\n",
      "/opt/conda/lib/python3.10/site-packages/sklearn/cluster/_kmeans.py:870: FutureWarning: The default value of `n_init` will change from 10 to 'auto' in 1.4. Set the value of `n_init` explicitly to suppress the warning\n",
      "  warnings.warn(\n",
      "/opt/conda/lib/python3.10/site-packages/sklearn/cluster/_kmeans.py:870: FutureWarning: The default value of `n_init` will change from 10 to 'auto' in 1.4. Set the value of `n_init` explicitly to suppress the warning\n",
      "  warnings.warn(\n"
     ]
    }
   ],
   "source": [
    "from sklearn.cluster import KMeans\n",
    "\n",
    "# Pemilihan fitur\n",
    "X = df[['Quantity', 'UnitPrice']]\n",
    "\n",
    "# Pemilihan jumlah cluster (contoh menggunakan elbow method)\n",
    "clusters = []\n",
    "for i in range(1, 11):\n",
    "    km = KMeans (n_clusters=i).fit(df)\n",
    "    clusters.append(km.inertia_)"
   ]
  },
  {
   "cell_type": "code",
   "execution_count": 15,
   "id": "d312967d",
   "metadata": {
    "execution": {
     "iopub.execute_input": "2024-03-20T11:10:23.254088Z",
     "iopub.status.busy": "2024-03-20T11:10:23.253016Z",
     "iopub.status.idle": "2024-03-20T11:10:23.946642Z",
     "shell.execute_reply": "2024-03-20T11:10:23.945498Z"
    },
    "papermill": {
     "duration": 0.703793,
     "end_time": "2024-03-20T11:10:23.949171",
     "exception": false,
     "start_time": "2024-03-20T11:10:23.245378",
     "status": "completed"
    },
    "tags": []
   },
   "outputs": [
    {
     "name": "stderr",
     "output_type": "stream",
     "text": [
      "/opt/conda/lib/python3.10/site-packages/seaborn/_oldcore.py:1119: FutureWarning: use_inf_as_na option is deprecated and will be removed in a future version. Convert inf values to NaN before operating instead.\n",
      "  with pd.option_context('mode.use_inf_as_na', True):\n",
      "/opt/conda/lib/python3.10/site-packages/seaborn/_oldcore.py:1119: FutureWarning: use_inf_as_na option is deprecated and will be removed in a future version. Convert inf values to NaN before operating instead.\n",
      "  with pd.option_context('mode.use_inf_as_na', True):\n"
     ]
    },
    {
     "data": {
      "text/plain": [
       "Text(0, 0.5, 'Inertia')"
      ]
     },
     "execution_count": 15,
     "metadata": {},
     "output_type": "execute_result"
    },
    {
     "data": {
      "image/png": "[encoded data removed]",
      "text/plain": [
       "<Figure size 800x400 with 1 Axes>"
      ]
     },
     "metadata": {},
     "output_type": "display_data"
    }
   ],
   "source": [
    "# Visualisasi elbow method\n",
    "import matplotlib.pyplot as plt\n",
    "%matplotlib inline\n",
    "import seaborn as sns\n",
    "\n",
    "#Buat Plot Inertia\n",
    "fig, ax = plt.subplots(figsize=(8,4))\n",
    "sns.lineplot(x=list(range(1,11)), y=clusters, ax=ax)\n",
    "\n",
    "ax.set_title('Cari Elbow')\n",
    "ax.set_xlabel('Clusters')\n",
    "ax.set_ylabel('Inertia')\n"
   ]
  },
  {
   "cell_type": "code",
   "execution_count": 16,
   "id": "76ebe7e1",
   "metadata": {
    "execution": {
     "iopub.execute_input": "2024-03-20T11:10:23.966099Z",
     "iopub.status.busy": "2024-03-20T11:10:23.965715Z",
     "iopub.status.idle": "2024-03-20T11:10:35.907137Z",
     "shell.execute_reply": "2024-03-20T11:10:35.906096Z"
    },
    "papermill": {
     "duration": 11.953248,
     "end_time": "2024-03-20T11:10:35.909361",
     "exception": false,
     "start_time": "2024-03-20T11:10:23.956113",
     "status": "completed"
    },
    "tags": []
   },
   "outputs": [
    {
     "name": "stderr",
     "output_type": "stream",
     "text": [
      "/opt/conda/lib/python3.10/site-packages/sklearn/cluster/_kmeans.py:870: FutureWarning: The default value of `n_init` will change from 10 to 'auto' in 1.4. Set the value of `n_init` explicitly to suppress the warning\n",
      "  warnings.warn(\n",
      "/tmp/ipykernel_18/3435842960.py:11: UserWarning: The palette list has more values (5) than needed (2), which may not be intended.\n",
      "  sns.scatterplot(x=X['Quantity'], y=X['UnitPrice'], hue=X['Label'],\n"
     ]
    },
    {
     "data": {
      "image/png": "[encoded data removed]",
      "text/plain": [
       "<Figure size 800x400 with 1 Axes>"
      ]
     },
     "metadata": {},
     "output_type": "display_data"
    }
   ],
   "source": [
    "# Terapkan KMeans dengan jumlah cluster yang telah ditentukan\n",
    "# Kemudian lakukan fitting model KMeans\n",
    "#X = df[['Quantity', 'UnitPrice', 'CustomerID']]\n",
    "km5 = KMeans(n_clusters=2).fit(X)\n",
    "\n",
    "# Tambahkan kolom label pada dataset\n",
    "X['Label'] = km5.labels_\n",
    "\n",
    "# Sekarang plot KMeans dapat dilakukan\n",
    "plt.figure(figsize=(8,4))\n",
    "sns.scatterplot(x=X['Quantity'], y=X['UnitPrice'], hue=X['Label'],\n",
    "                palette=sns.color_palette('hls', 5))\n",
    "plt.title('KMeans 5 Kluster')\n",
    "plt.xlabel('Quantity')\n",
    "plt.ylabel('UnitPrice')\n",
    "plt.show()"
   ]
  },
  {
   "cell_type": "code",
   "execution_count": null,
   "id": "99cb5a79",
   "metadata": {
    "papermill": {
     "duration": 0.007223,
     "end_time": "2024-03-20T11:10:35.924446",
     "exception": false,
     "start_time": "2024-03-20T11:10:35.917223",
     "status": "completed"
    },
    "tags": []
   },
   "outputs": [],
   "source": []
  }
 ],
 "metadata": {
  "kaggle": {
   "accelerator": "none",
   "dataSources": [
    {
     "datasetId": 1985,
     "sourceId": 3404,
     "sourceType": "datasetVersion"
    }
   ],
   "dockerImageVersionId": 30664,
   "isGpuEnabled": false,
   "isInternetEnabled": true,
   "language": "python",
   "sourceType": "notebook"
  },
  "kernelspec": {
   "display_name": "Python 3",
   "language": "python",
   "name": "python3"
  },
  "language_info": {
   "codemirror_mode": {
    "name": "ipython",
    "version": 3
   },
   "file_extension": ".py",
   "mimetype": "text/x-python",
   "name": "python",
   "nbconvert_exporter": "python",
   "pygments_lexer": "ipython3",
   "version": "3.10.13"
  },
  "papermill": {
   "default_parameters": {},
   "duration": 49.231193,
   "end_time": "2024-03-20T11:10:38.554962",
   "environment_variables": {},
   "exception": null,
   "input_path": "__notebook__.ipynb",
   "output_path": "__notebook__.ipynb",
   "parameters": {},
   "start_time": "2024-03-20T11:09:49.323769",
   "version": "2.5.0"
  }
 },
 "nbformat": 4,
 "nbformat_minor": 5
}
